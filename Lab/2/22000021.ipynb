{
 "cells": [
  {
   "cell_type": "code",
   "execution_count": 1,
   "id": "56d296ff-c6ab-45a8-8349-9f57fbbe2676",
   "metadata": {
    "vscode": {
     "languageId": "r"
    }
   },
   "outputs": [],
   "source": [
    "heart_data <- read.csv(\"heart.csv\")"
   ]
  },
  {
   "cell_type": "code",
   "execution_count": 5,
   "id": "083ee1b6-abac-496d-94f6-737ed91c721c",
   "metadata": {
    "vscode": {
     "languageId": "r"
    }
   },
   "outputs": [
    {
     "name": "stdout",
     "output_type": "stream",
     "text": [
      "[1] \"Number of records:  918\"\n"
     ]
    }
   ],
   "source": [
    "count <- 0\n",
    "for(i in 1:nrow(heart_data)){\n",
    "    count <- count + 1\n",
    "}\n",
    "print(paste(\"Number of records: \", count))"
   ]
  },
  {
   "cell_type": "code",
   "execution_count": 6,
   "id": "f95addc5-678d-4a35-9ccf-ac74893a3118",
   "metadata": {
    "vscode": {
     "languageId": "r"
    }
   },
   "outputs": [
    {
     "name": "stdout",
     "output_type": "stream",
     "text": [
      "[1] \"Min: 0 Max: 200 Mean: 132.39651416122\"\n"
     ]
    }
   ],
   "source": [
    "min_val <- min(heart_data$RestingBP)\n",
    "max_val <- max(heart_data$RestingBP)\n",
    "mean_val <- mean(heart_data$RestingBP)\n",
    "summary <- paste(\"Min:\", min_val, \"Max:\", max_val, \"Mean:\", mean_val)\n",
    "print(summary)"
   ]
  },
  {
   "cell_type": "code",
   "execution_count": 7,
   "id": "937f2a42-d70e-44c1-863b-8b87f7af9a46",
   "metadata": {
    "vscode": {
     "languageId": "r"
    }
   },
   "outputs": [
    {
     "name": "stdout",
     "output_type": "stream",
     "text": [
      "[1] \"Patients with Resting BP higher than mean:  404\"\n"
     ]
    }
   ],
   "source": [
    "high_bp <- 0\n",
    "for(bp in heart_data$RestingBP) {\n",
    "    if(bp > mean_val) {\n",
    "        high_bp <- high_bp + 1\n",
    "    }\n",
    "}\n",
    "print(paste(\"Patients with Resting BP higher than mean: \", high_bp))"
   ]
  },
  {
   "cell_type": "code",
   "execution_count": 8,
   "id": "21ce9397-2a8f-46e5-8840-dab2f5d0f4f0",
   "metadata": {
    "vscode": {
     "languageId": "r"
    }
   },
   "outputs": [
    {
     "name": "stdout",
     "output_type": "stream",
     "text": [
      "[1] \"ATA\" \"NAP\" \"ASY\" \"TA\" \n"
     ]
    }
   ],
   "source": [
    "chest_pain_types <- c()\n",
    "for(pain_type in heart_data$ChestPainType) {\n",
    "    if(!(pain_type %in% chest_pain_types)) {\n",
    "        chest_pain_types <- c(chest_pain_types, pain_type)\n",
    "    }\n",
    "}\n",
    "print(chest_pain_types)"
   ]
  },
  {
   "cell_type": "code",
   "execution_count": 9,
   "id": "8a177ba9-060f-4709-8447-4d03ae685ccc",
   "metadata": {
    "vscode": {
     "languageId": "r"
    }
   },
   "outputs": [
    {
     "name": "stdout",
     "output_type": "stream",
     "text": [
      " [1] 49 43 48 54 51 43 40 58 54 62\n"
     ]
    }
   ],
   "source": [
    "count <- 0\n",
    "female_high <- c()\n",
    "for(i in 1:nrow(heart_data)) {\n",
    "    if(heart_data$Sex[i] == \"F\" && heart_data$RestingBP[i] > 140) {\n",
    "        female_high <- c(female_high, heart_data$Age[i])\n",
    "        count <- count + 1\n",
    "        if(count == 10) break\n",
    "    }\n",
    "}\n",
    "print(female_high)"
   ]
  },
  {
   "cell_type": "code",
   "execution_count": 10,
   "id": "dacc1085-64e0-4eaf-886a-f8049872ebd7",
   "metadata": {
    "vscode": {
     "languageId": "r"
    }
   },
   "outputs": [],
   "source": [
    "analyze_row <- function(row) {\n",
    "    cat(\"Age:\", row$Age, \"\\n\")\n",
    "    cat(\"Sex:\", row$Sex, \"\\n\")\n",
    "    cat(\"ChestPainType:\", row$ChestPainType, \"\\n\")\n",
    "    cat(\"RestingBP:\", row$RestingBP, \"\\n\")\n",
    "    if(row$Cholesterol < 200) {\n",
    "        cat(\"Cholesterol Level: Low\\n\")\n",
    "    } else {\n",
    "        cat(\"Cholesterol Level: High\\n\")\n",
    "    }\n",
    "    cat(\"\\n\")\n",
    "}"
   ]
  },
  {
   "cell_type": "code",
   "execution_count": 11,
   "id": "49af0eff-8449-4da4-af86-0c715f402627",
   "metadata": {
    "vscode": {
     "languageId": "r"
    }
   },
   "outputs": [
    {
     "name": "stdout",
     "output_type": "stream",
     "text": [
      "Age: 41 \n",
      "Sex: M \n",
      "ChestPainType: ASY \n",
      "RestingBP: 110 \n",
      "Cholesterol Level: High\n",
      "\n"
     ]
    }
   ],
   "source": [
    "analyze_row(heart_data[50,])"
   ]
  },
  {
   "cell_type": "code",
   "execution_count": 12,
   "id": "ee87d0c7-7dee-4ee9-8c57-e45250ba3b2d",
   "metadata": {
    "vscode": {
     "languageId": "r"
    }
   },
   "outputs": [],
   "source": [
    "cities <- c(\"Colombo\", \"Kandy\", \"Galle\", \"Anuradhapura\", \"Trincomalee\", \"Jaffna\")"
   ]
  },
  {
   "cell_type": "code",
   "execution_count": 13,
   "id": "6767e8b3-f2cf-4210-976c-e664f12fb579",
   "metadata": {
    "vscode": {
     "languageId": "r"
    }
   },
   "outputs": [],
   "source": [
    "population <- c(580000, 450000, 330000, 380000, 280000, 310000)"
   ]
  },
  {
   "cell_type": "code",
   "execution_count": 14,
   "id": "ecf8ec10-d6fc-4b8a-820d-c951185f1c9b",
   "metadata": {
    "vscode": {
     "languageId": "r"
    }
   },
   "outputs": [],
   "source": [
    "data <- data.frame(City = cities, Population = population)"
   ]
  },
  {
   "cell_type": "code",
   "execution_count": 15,
   "id": "b29ffc61-8129-4063-a914-7f5f3417d99b",
   "metadata": {
    "vscode": {
     "languageId": "r"
    }
   },
   "outputs": [
    {
     "data": {
      "text/html": [
       "<table class=\"dataframe\">\n",
       "<caption>A data.frame: 6 × 2</caption>\n",
       "<thead>\n",
       "\t<tr><th></th><th scope=col>City</th><th scope=col>Population</th></tr>\n",
       "\t<tr><th></th><th scope=col>&lt;chr&gt;</th><th scope=col>&lt;dbl&gt;</th></tr>\n",
       "</thead>\n",
       "<tbody>\n",
       "\t<tr><th scope=row>1</th><td>Colombo     </td><td>580000</td></tr>\n",
       "\t<tr><th scope=row>2</th><td>Kandy       </td><td>450000</td></tr>\n",
       "\t<tr><th scope=row>3</th><td>Galle       </td><td>330000</td></tr>\n",
       "\t<tr><th scope=row>4</th><td>Anuradhapura</td><td>380000</td></tr>\n",
       "\t<tr><th scope=row>5</th><td>Trincomalee </td><td>280000</td></tr>\n",
       "\t<tr><th scope=row>6</th><td>Jaffna      </td><td>310000</td></tr>\n",
       "</tbody>\n",
       "</table>\n"
      ],
      "text/latex": [
       "A data.frame: 6 × 2\n",
       "\\begin{tabular}{r|ll}\n",
       "  & City & Population\\\\\n",
       "  & <chr> & <dbl>\\\\\n",
       "\\hline\n",
       "\t1 & Colombo      & 580000\\\\\n",
       "\t2 & Kandy        & 450000\\\\\n",
       "\t3 & Galle        & 330000\\\\\n",
       "\t4 & Anuradhapura & 380000\\\\\n",
       "\t5 & Trincomalee  & 280000\\\\\n",
       "\t6 & Jaffna       & 310000\\\\\n",
       "\\end{tabular}\n"
      ],
      "text/markdown": [
       "\n",
       "A data.frame: 6 × 2\n",
       "\n",
       "| <!--/--> | City &lt;chr&gt; | Population &lt;dbl&gt; |\n",
       "|---|---|---|\n",
       "| 1 | Colombo      | 580000 |\n",
       "| 2 | Kandy        | 450000 |\n",
       "| 3 | Galle        | 330000 |\n",
       "| 4 | Anuradhapura | 380000 |\n",
       "| 5 | Trincomalee  | 280000 |\n",
       "| 6 | Jaffna       | 310000 |\n",
       "\n"
      ],
      "text/plain": [
       "  City         Population\n",
       "1 Colombo      580000    \n",
       "2 Kandy        450000    \n",
       "3 Galle        330000    \n",
       "4 Anuradhapura 380000    \n",
       "5 Trincomalee  280000    \n",
       "6 Jaffna       310000    "
      ]
     },
     "metadata": {},
     "output_type": "display_data"
    }
   ],
   "source": [
    "head(data)"
   ]
  },
  {
   "cell_type": "code",
   "execution_count": 16,
   "id": "a5e58600-cf60-49d8-8384-03f709f97ef9",
   "metadata": {
    "vscode": {
     "languageId": "r"
    }
   },
   "outputs": [
    {
     "data": {
      "image/png": "[encoded data removed]",
      "text/plain": [
       "Plot with title \"City\n",
       "Population\""
      ]
     },
     "metadata": {
      "image/png": {
       "height": 420,
       "width": 420
      }
     },
     "output_type": "display_data"
    }
   ],
   "source": [
    "par(bg=\"white\")\n",
    "pie(population, labels = cities, col = rainbow(length(cities)), main = \"City\n",
    "Population\")"
   ]
  },
  {
   "cell_type": "code",
   "execution_count": 18,
   "id": "30abd914-4edf-42d6-900f-3f66d6b331a7",
   "metadata": {
    "vscode": {
     "languageId": "r"
    }
   },
   "outputs": [
    {
     "data": {
      "image/png": "[encoded data removed]",
      "text/plain": [
       "Plot with title \"City\n",
       "Population\""
      ]
     },
     "metadata": {
      "image/png": {
       "height": 420,
       "width": 420
      }
     },
     "output_type": "display_data"
    }
   ],
   "source": [
    "par(bg=\"white\")\n",
    "percentages <- round(population / sum(population) * 100)\n",
    "labels <- paste(percentages, \"%\", sep = \"\")\n",
    "pie(population, labels = labels, col = rainbow(length(cities)), main = \"City\n",
    "Population\")"
   ]
  },
  {
   "cell_type": "code",
   "execution_count": 20,
   "id": "8c5baf2b-61fd-47c5-8916-47fc19bb5ef0",
   "metadata": {
    "vscode": {
     "languageId": "r"
    }
   },
   "outputs": [
    {
     "data": {
      "image/png": "[encoded data removed]",
      "text/plain": [
       "Plot with title \"Income\""
      ]
     },
     "metadata": {
      "image/png": {
       "height": 420,
       "width": 420
      }
     },
     "output_type": "display_data"
    }
   ],
   "source": [
    "par(bg=\"white\")\n",
    "years <- c(2015, 2016, 2017, 2018, 2019)\n",
    "income <- c(1320000, 1500000, 2002000, 1980000, 1520000)\n",
    "barplot(income, names.arg = years, col = \"red\", border = \"blue\", main = \"Income\", ylab = \"Yearly Income\", xlab = \"Year\",ylim = c(0, max(income) * 1.1))"
   ]
  }
 ],
 "metadata": {
  "kernelspec": {
   "display_name": "R",
   "language": "R",
   "name": "ir"
  },
  "language_info": {
   "codemirror_mode": "r",
   "file_extension": ".r",
   "mimetype": "text/x-r-source",
   "name": "R",
   "pygments_lexer": "r",
   "version": "4.4.2"
  }
 },
 "nbformat": 4,
 "nbformat_minor": 5
}
