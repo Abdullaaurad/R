{
 "cells": [
  {
   "cell_type": "code",
   "execution_count": 49,
   "metadata": {
    "vscode": {
     "languageId": "r"
    }
   },
   "outputs": [
    {
     "name": "stdout",
     "output_type": "stream",
     "text": [
      " [1] \"E1001\" \"E1002\" \"E1003\" \"E1004\" \"E1005\" \"E1006\" \"E1007\" \"E1008\" \"E1009\"\n",
      "[10] \"E1010\" \"E1011\" \"E1012\" \"E1013\" \"E1014\" \"E1015\" \"E1016\" \"E1017\" \"E1018\"\n",
      "[19] \"E1019\" \"E1020\" \"E1021\" \"E1022\" \"E1023\" \"E1024\" \"E1025\" \"E1026\" \"E1027\"\n",
      "[28] \"E1028\" \"E1029\" \"E1030\" \"E1031\" \"E1032\" \"E1033\" \"E1034\" \"E1035\" \"E1036\"\n",
      "[37] \"E1037\" \"E1038\" \"E1039\" \"E1040\" \"E1041\" \"E1042\" \"E1043\" \"E1044\" \"E1045\"\n",
      "[46] \"E1046\" \"E1047\" \"E1048\" \"E1049\" \"E1050\"\n"
     ]
    }
   ],
   "source": [
    "Employee_Id <- 1001:1050\n",
    "Employee_Id <- paste0(\"E\", Employee_Id)\n",
    "print(Employee_Id)\n",
    "set.seed(22000021)"
   ]
  },
  {
   "cell_type": "code",
   "execution_count": 50,
   "metadata": {
    "vscode": {
     "languageId": "r"
    }
   },
   "outputs": [
    {
     "name": "stdout",
     "output_type": "stream",
     "text": [
      " [1] \"Male\"   \"Male\"   \"Male\"   \"Male\"   \"Male\"   \"Female\" \"Male\"   \"Male\"  \n",
      " [9] \"Female\" \"Male\"   \"Female\" \"Male\"   \"Female\" \"Male\"   \"Female\" \"Male\"  \n",
      "[17] \"Male\"   \"Male\"   \"Male\"   \"Male\"   \"Male\"   \"Female\" \"Male\"   \"Female\"\n",
      "[25] \"Male\"   \"Female\" \"Male\"   \"Male\"   \"Female\" \"Male\"   \"Male\"   \"Male\"  \n",
      "[33] \"Female\" \"Male\"   \"Female\" \"Male\"   \"Male\"   \"Male\"   \"Male\"   \"Female\"\n",
      "[41] \"Male\"   \"Male\"   \"Male\"   \"Female\" \"Female\" \"Male\"   \"Male\"   \"Female\"\n",
      "[49] \"Male\"   \"Male\"  \n"
     ]
    }
   ],
   "source": [
    "values <- c(\"Male\", \"Female\")\n",
    "probabilities <- c(0.75, 0.25)\n",
    "Gender <- sample(values, size = 50, replace = TRUE, prob = probabilities)\n",
    "print(Gender)"
   ]
  },
  {
   "cell_type": "code",
   "execution_count": 16,
   "metadata": {
    "vscode": {
     "languageId": "r"
    }
   },
   "outputs": [
    {
     "name": "stdout",
     "output_type": "stream",
     "text": [
      " [1] 28 25 27 27 40 32 40 36 36 32 38 29 35 31 32 34 39 37 32 33 35 33 36 40 32\n",
      "[26] 40 40 37 32 26 35 31 33 33 39 29 36 38 35 25 38 36 32 39 38 26 31 34 29 35\n"
     ]
    }
   ],
   "source": [
    "Age <- sample(c(25:40), replace=TRUE, size=50)\n",
    "print(Age)"
   ]
  },
  {
   "cell_type": "code",
   "execution_count": 17,
   "metadata": {
    "vscode": {
     "languageId": "r"
    }
   },
   "outputs": [
    {
     "name": "stdout",
     "output_type": "stream",
     "text": [
      " [1] \"System Administrator\" \"Software Engineer\"    \"Data Analyst\"        \n",
      " [4] \"Software Engineer\"    \"System Administrator\" \"Software Engineer\"   \n",
      " [7] \"Data Analyst\"         \"System Administrator\" \"Software Engineer\"   \n",
      "[10] \"System Administrator\" \"Software Engineer\"    \"Project Manager\"     \n",
      "[13] \"System Administrator\" \"Project Manager\"      \"Project Manager\"     \n",
      "[16] \"System Administrator\" \"Data Analyst\"         \"System Administrator\"\n",
      "[19] \"Software Engineer\"    \"System Administrator\" \"System Administrator\"\n",
      "[22] \"Data Analyst\"         \"Project Manager\"      \"Data Analyst\"        \n",
      "[25] \"Data Analyst\"         \"Software Engineer\"    \"Software Engineer\"   \n",
      "[28] \"Software Engineer\"    \"Data Analyst\"         \"Project Manager\"     \n",
      "[31] \"System Administrator\" \"Project Manager\"      \"Project Manager\"     \n",
      "[34] \"Project Manager\"      \"Project Manager\"      \"Software Engineer\"   \n",
      "[37] \"Software Engineer\"    \"Software Engineer\"    \"Software Engineer\"   \n",
      "[40] \"Data Analyst\"         \"Software Engineer\"    \"System Administrator\"\n",
      "[43] \"Project Manager\"      \"Software Engineer\"    \"System Administrator\"\n",
      "[46] \"System Administrator\" \"Software Engineer\"    \"System Administrator\"\n",
      "[49] \"System Administrator\" \"Data Analyst\"        \n"
     ]
    }
   ],
   "source": [
    "Values <- c(\"Software Engineer\", \"Data Analyst\", \"System Administrator\", \"Project Manager\")\n",
    "Position <- sample(Values, size=50, replace = TRUE)\n",
    "print(Position)"
   ]
  },
  {
   "cell_type": "code",
   "execution_count": 24,
   "metadata": {
    "vscode": {
     "languageId": "r"
    }
   },
   "outputs": [
    {
     "name": "stdout",
     "output_type": "stream",
     "text": [
      " [1] 180000 105000 130000 105000 170000 105000 180000 195000 180000 105000\n",
      "[11] 185000 170000 110000 185000 165000 165000 135000 170000 120000 170000\n",
      "[21] 115000 195000 165000 195000 100000 110000 145000 155000 180000 145000\n",
      "[31] 180000 145000 190000 100000 120000 195000 140000 140000 145000 100000\n",
      "[41] 165000 190000 100000 165000 180000 145000 110000 130000 145000 110000\n"
     ]
    }
   ],
   "source": [
    "Base_Salary <- sample(seq(100000, 200000, by = 5000), replace = TRUE, size = 50)\n",
    "print(Base_Salary)"
   ]
  },
  {
   "cell_type": "code",
   "execution_count": 25,
   "metadata": {
    "vscode": {
     "languageId": "r"
    }
   },
   "outputs": [
    {
     "name": "stdout",
     "output_type": "stream",
     "text": [
      " [1] \"Finance\"   \"Finance\"   \"IT\"        \"HR\"        \"IT\"        \"HR\"       \n",
      " [7] \"Marketing\" \"Finance\"   \"Finance\"   \"HR\"        \"IT\"        \"HR\"       \n",
      "[13] \"HR\"        \"Finance\"   \"HR\"        \"Finance\"   \"Marketing\" \"IT\"       \n",
      "[19] \"HR\"        \"Marketing\" \"IT\"        \"Finance\"   \"HR\"        \"HR\"       \n",
      "[25] \"Marketing\" \"Finance\"   \"IT\"        \"Finance\"   \"IT\"        \"IT\"       \n",
      "[31] \"Finance\"   \"Finance\"   \"Finance\"   \"HR\"        \"IT\"        \"Finance\"  \n",
      "[37] \"Marketing\" \"IT\"        \"IT\"        \"Marketing\" \"IT\"        \"Marketing\"\n",
      "[43] \"Finance\"   \"Marketing\" \"Finance\"   \"HR\"        \"IT\"        \"Finance\"  \n",
      "[49] \"IT\"        \"Finance\"  \n"
     ]
    }
   ],
   "source": [
    "Values <- c(\"IT\", \"Finance\", \"HR\", \"Marketing\")\n",
    "Department <- sample(Values, size = 50, replace=TRUE)\n",
    "print(Department)"
   ]
  },
  {
   "cell_type": "code",
   "execution_count": 27,
   "metadata": {
    "vscode": {
     "languageId": "r"
    }
   },
   "outputs": [
    {
     "name": "stdout",
     "output_type": "stream",
     "text": [
      " [1] 12000  5000 19000  6000 15000 20000  8000 19000 15000  7000 12000 20000\n",
      "[13] 15000  9000  9000 10000 15000 13000 14000 20000 10000  7000 19000 20000\n",
      "[25]  8000 16000 19000 18000 19000  9000 12000 19000 11000 15000 13000  8000\n",
      "[37]  8000 13000 19000 14000 12000  6000 10000 14000 10000 19000 13000 13000\n",
      "[49] 13000 15000\n"
     ]
    }
   ],
   "source": [
    "Bonus <- sample(seq(5000,20000, by=1000), size=50, replace=TRUE)\n",
    "print(Bonus)"
   ]
  },
  {
   "cell_type": "code",
   "execution_count": 28,
   "metadata": {
    "vscode": {
     "languageId": "r"
    }
   },
   "outputs": [
    {
     "name": "stdout",
     "output_type": "stream",
     "text": [
      " [1]  2  6 10  8 13  5 10  8  3  3  9 14  9 11  9  4  9 11  8 11  1  8 12 14  3\n",
      "[26] 11 12 11  7 10  5  8  3  1  2 12 12 11  1  4  5  7 14 10 14 15 11  2  9 12\n"
     ]
    }
   ],
   "source": [
    "Experience <- sample(c(1:15), replace=TRUE, size=50)\n",
    "print(Experience)"
   ]
  },
  {
   "cell_type": "code",
   "execution_count": 73,
   "metadata": {
    "vscode": {
     "languageId": "r"
    }
   },
   "outputs": [
    {
     "name": "stdout",
     "output_type": "stream",
     "text": [
      " [1] 3 2 4 4 1 1 2 1 3 4 3 4 4 3 4 2 2 3 2 2 5 4 3 5 2 5 1 2 5 3 4 4 1 3 5 4 2 4\n",
      "[39] 1 3 3 3 5 2 3 3 2 2 5 5\n"
     ]
    }
   ],
   "source": [
    "# values <- c(\"Poor\", \"Below Average\",\"Average\",\"Good\",\"Excellent\")\n",
    "Rating <- sample(c(1:5), replace = TRUE, size=50)\n",
    "print(Rating)\n",
    "\n",
    "# values <- c(\"Poor\", \"Below Average\", \"Average\", \"Good\", \"Excellent\")\n",
    "# value_factor <- factor(values, levels = values, labels = c(1, 2, 3, 4, 5))\n",
    "# print(value_factor)\n",
    "\n",
    "# numeric_value <- 3  # For example, \"Average\" (which is mapped to 3)\n",
    "# mapped_value <- levels(value_factor)[numeric_value]\n",
    "# print(mapped_value)  # Output: \"Average\"\n"
   ]
  },
  {
   "cell_type": "code",
   "execution_count": 30,
   "metadata": {
    "vscode": {
     "languageId": "r"
    }
   },
   "outputs": [
    {
     "name": "stdout",
     "output_type": "stream",
     "text": [
      " [1] 1 1 1 1 1 1 0 0 0 1 1 0 1 0 0 1 1 1 1 1 1 0 1 1 0 0 0 1 1 1 0 0 0 0 1 0 1 1\n",
      "[39] 0 0 1 1 1 1 1 1 1 1 1 1\n"
     ]
    }
   ],
   "source": [
    "Values = c(1, 0)\n",
    "probabilities = c(0.6, 0.4)\n",
    "Remotework <- sample(Values, size=50, prob = probabilities, replace=TRUE)\n",
    "print(Remotework)"
   ]
  },
  {
   "cell_type": "code",
   "execution_count": 74,
   "metadata": {
    "vscode": {
     "languageId": "r"
    }
   },
   "outputs": [
    {
     "name": "stdout",
     "output_type": "stream",
     "text": [
      "   Employee_Id Gender Age             Position Base_Salary Department Bonus\n",
      "1        E1001   Male  28 System Administrator      180000    Finance 12000\n",
      "2        E1002   Male  25    Software Engineer      105000    Finance  5000\n",
      "3        E1003   Male  27         Data Analyst      130000         IT 19000\n",
      "4        E1004   Male  27    Software Engineer      105000         HR  6000\n",
      "5        E1005   Male  40 System Administrator      170000         IT 15000\n",
      "6        E1006 Female  32    Software Engineer      105000         HR 20000\n",
      "7        E1007   Male  40         Data Analyst      180000  Marketing  8000\n",
      "8        E1008   Male  36 System Administrator      195000    Finance 19000\n",
      "9        E1009 Female  36    Software Engineer      180000    Finance 15000\n",
      "10       E1010   Male  32 System Administrator      105000         HR  7000\n",
      "11       E1011 Female  38    Software Engineer      185000         IT 12000\n",
      "12       E1012   Male  29      Project Manager      170000         HR 20000\n",
      "13       E1013 Female  35 System Administrator      110000         HR 15000\n",
      "14       E1014   Male  31      Project Manager      185000    Finance  9000\n",
      "15       E1015 Female  32      Project Manager      165000         HR  9000\n",
      "16       E1016   Male  34 System Administrator      165000    Finance 10000\n",
      "17       E1017   Male  39         Data Analyst      135000  Marketing 15000\n",
      "18       E1018   Male  37 System Administrator      170000         IT 13000\n",
      "19       E1019   Male  32    Software Engineer      120000         HR 14000\n",
      "20       E1020   Male  33 System Administrator      170000  Marketing 20000\n",
      "21       E1021   Male  35 System Administrator      115000         IT 10000\n",
      "22       E1022 Female  33         Data Analyst      195000    Finance  7000\n",
      "23       E1023   Male  36      Project Manager      165000         HR 19000\n",
      "24       E1024 Female  40         Data Analyst      195000         HR 20000\n",
      "25       E1025   Male  32         Data Analyst      100000  Marketing  8000\n",
      "26       E1026 Female  40    Software Engineer      110000    Finance 16000\n",
      "27       E1027   Male  40    Software Engineer      145000         IT 19000\n",
      "28       E1028   Male  37    Software Engineer      155000    Finance 18000\n",
      "29       E1029 Female  32         Data Analyst      180000         IT 19000\n",
      "30       E1030   Male  26      Project Manager      145000         IT  9000\n",
      "31       E1031   Male  35 System Administrator      180000    Finance 12000\n",
      "32       E1032   Male  31      Project Manager      145000    Finance 19000\n",
      "33       E1033 Female  33      Project Manager      190000    Finance 11000\n",
      "34       E1034   Male  33      Project Manager      100000         HR 15000\n",
      "35       E1035 Female  39      Project Manager      120000         IT 13000\n",
      "36       E1036   Male  29    Software Engineer      195000    Finance  8000\n",
      "37       E1037   Male  36    Software Engineer      140000  Marketing  8000\n",
      "38       E1038   Male  38    Software Engineer      140000         IT 13000\n",
      "39       E1039   Male  35    Software Engineer      145000         IT 19000\n",
      "40       E1040 Female  25         Data Analyst      100000  Marketing 14000\n",
      "41       E1041   Male  38    Software Engineer      165000         IT 12000\n",
      "42       E1042   Male  36 System Administrator      190000  Marketing  6000\n",
      "43       E1043   Male  32      Project Manager      100000    Finance 10000\n",
      "44       E1044 Female  39    Software Engineer      165000  Marketing 14000\n",
      "45       E1045 Female  38 System Administrator      180000    Finance 10000\n",
      "46       E1046   Male  26 System Administrator      145000         HR 19000\n",
      "47       E1047   Male  31    Software Engineer      110000         IT 13000\n",
      "48       E1048 Female  34 System Administrator      130000    Finance 13000\n",
      "49       E1049   Male  29 System Administrator      145000         IT 13000\n",
      "50       E1050   Male  35         Data Analyst      110000    Finance 15000\n",
      "   Rating Experience Remotework\n",
      "1       3          2          1\n",
      "2       2          6          1\n",
      "3       4         10          1\n",
      "4       4          8          1\n",
      "5       1         13          1\n",
      "6       1          5          1\n",
      "7       2         10          0\n",
      "8       1          8          0\n",
      "9       3          3          0\n",
      "10      4          3          1\n",
      "11      3          9          1\n",
      "12      4         14          0\n",
      "13      4          9          1\n",
      "14      3         11          0\n",
      "15      4          9          0\n",
      "16      2          4          1\n",
      "17      2          9          1\n",
      "18      3         11          1\n",
      "19      2          8          1\n",
      "20      2         11          1\n",
      "21      5          1          1\n",
      "22      4          8          0\n",
      "23      3         12          1\n",
      "24      5         14          1\n",
      "25      2          3          0\n",
      "26      5         11          0\n",
      "27      1         12          0\n",
      "28      2         11          1\n",
      "29      5          7          1\n",
      "30      3         10          1\n",
      "31      4          5          0\n",
      "32      4          8          0\n",
      "33      1          3          0\n",
      "34      3          1          0\n",
      "35      5          2          1\n",
      "36      4         12          0\n",
      "37      2         12          1\n",
      "38      4         11          1\n",
      "39      1          1          0\n",
      "40      3          4          0\n",
      "41      3          5          1\n",
      "42      3          7          1\n",
      "43      5         14          1\n",
      "44      2         10          1\n",
      "45      3         14          1\n",
      "46      3         15          1\n",
      "47      2         11          1\n",
      "48      2          2          1\n",
      "49      5          9          1\n",
      "50      5         12          1\n"
     ]
    }
   ],
   "source": [
    "Employee <- data.frame(Employee_Id, Gender, Age, Position, Base_Salary, Department, Bonus, Rating, Experience, Remotework)\n",
    "print(Employee)"
   ]
  },
  {
   "cell_type": "code",
   "execution_count": 75,
   "metadata": {
    "vscode": {
     "languageId": "r"
    }
   },
   "outputs": [
    {
     "name": "stdout",
     "output_type": "stream",
     "text": [
      "'data.frame':\t50 obs. of  10 variables:\n",
      " $ Employee_Id: chr  \"E1001\" \"E1002\" \"E1003\" \"E1004\" ...\n",
      " $ Gender     : chr  \"Male\" \"Male\" \"Male\" \"Male\" ...\n",
      " $ Age        : int  28 25 27 27 40 32 40 36 36 32 ...\n",
      " $ Position   : chr  \"System Administrator\" \"Software Engineer\" \"Data Analyst\" \"Software Engineer\" ...\n",
      " $ Base_Salary: num  180000 105000 130000 105000 170000 105000 180000 195000 180000 105000 ...\n",
      " $ Department : chr  \"Finance\" \"Finance\" \"IT\" \"HR\" ...\n",
      " $ Bonus      : num  12000 5000 19000 6000 15000 20000 8000 19000 15000 7000 ...\n",
      " $ Rating     : int  3 2 4 4 1 1 2 1 3 4 ...\n",
      " $ Experience : int  2 6 10 8 13 5 10 8 3 3 ...\n",
      " $ Remotework : num  1 1 1 1 1 1 0 0 0 1 ...\n"
     ]
    }
   ],
   "source": [
    "str(Employee)"
   ]
  },
  {
   "cell_type": "code",
   "execution_count": 76,
   "metadata": {
    "vscode": {
     "languageId": "r"
    }
   },
   "outputs": [
    {
     "data": {
      "text/plain": [
       " Employee_Id           Gender               Age          Position        \n",
       " Length:50          Length:50          Min.   :25.00   Length:50         \n",
       " Class :character   Class :character   1st Qu.:31.25   Class :character  \n",
       " Mode  :character   Mode  :character   Median :34.00   Mode  :character  \n",
       "                                       Mean   :33.72                     \n",
       "                                       3rd Qu.:37.00                     \n",
       "                                       Max.   :40.00                     \n",
       "  Base_Salary      Department            Bonus           Rating    \n",
       " Min.   :100000   Length:50          Min.   : 5000   Min.   :1.00  \n",
       " 1st Qu.:116250   Class :character   1st Qu.:10000   1st Qu.:2.00  \n",
       " Median :145000   Mode  :character   Median :13000   Median :3.00  \n",
       " Mean   :148600                      Mean   :13300   Mean   :3.06  \n",
       " 3rd Qu.:180000                      3rd Qu.:17500   3rd Qu.:4.00  \n",
       " Max.   :195000                      Max.   :20000   Max.   :5.00  \n",
       "   Experience     Remotework  \n",
       " Min.   : 1.0   Min.   :0.00  \n",
       " 1st Qu.: 5.0   1st Qu.:0.00  \n",
       " Median : 9.0   Median :1.00  \n",
       " Mean   : 8.2   Mean   :0.66  \n",
       " 3rd Qu.:11.0   3rd Qu.:1.00  \n",
       " Max.   :15.0   Max.   :1.00  "
      ]
     },
     "metadata": {},
     "output_type": "display_data"
    }
   ],
   "source": [
    "summary(Employee)"
   ]
  },
  {
   "cell_type": "code",
   "execution_count": 77,
   "metadata": {
    "vscode": {
     "languageId": "r"
    }
   },
   "outputs": [
    {
     "name": "stdout",
     "output_type": "stream",
     "text": [
      "   Employee_Id Gender Age             Position Base_Salary Department Bonus\n",
      "1        E1001   Male  28 System Administrator      180000    Finance 12000\n",
      "2        E1002   Male  25    Software Engineer      105000    Finance  5000\n",
      "3        E1003   Male  27         Data Analyst      130000         IT 19000\n",
      "4        E1004   Male  27    Software Engineer      105000         HR  6000\n",
      "5        E1005   Male  40 System Administrator      170000         IT 15000\n",
      "6        E1006 Female  32    Software Engineer      105000         HR 20000\n",
      "7        E1007   Male  40         Data Analyst      180000  Marketing  8000\n",
      "8        E1008   Male  36 System Administrator      195000    Finance 19000\n",
      "9        E1009 Female  36    Software Engineer      180000    Finance 15000\n",
      "10       E1010   Male  32 System Administrator      105000         HR  7000\n",
      "11       E1011 Female  38    Software Engineer      185000         IT 12000\n",
      "12       E1012   Male  29      Project Manager      170000         HR 20000\n",
      "13       E1013 Female  35 System Administrator      110000         HR 15000\n",
      "14       E1014   Male  31      Project Manager      185000    Finance  9000\n",
      "15       E1015 Female  32      Project Manager      165000         HR  9000\n",
      "16       E1016   Male  34 System Administrator      165000    Finance 10000\n",
      "17       E1017   Male  39         Data Analyst      135000  Marketing 15000\n",
      "18       E1018   Male  37 System Administrator      170000         IT 13000\n",
      "19       E1019   Male  32    Software Engineer      120000         HR 14000\n",
      "20       E1020   Male  33 System Administrator      170000  Marketing 20000\n",
      "21       E1021   Male  35 System Administrator      115000         IT 10000\n",
      "22       E1022 Female  33         Data Analyst      195000    Finance  7000\n",
      "23       E1023   Male  36      Project Manager      165000         HR 19000\n",
      "24       E1024 Female  40         Data Analyst      195000         HR 20000\n",
      "25       E1025   Male  32         Data Analyst      100000  Marketing  8000\n",
      "26       E1026 Female  40    Software Engineer      110000    Finance 16000\n",
      "27       E1027   Male  40    Software Engineer      145000         IT 19000\n",
      "28       E1028   Male  37    Software Engineer      155000    Finance 18000\n",
      "29       E1029 Female  32         Data Analyst      180000         IT 19000\n",
      "30       E1030   Male  26      Project Manager      145000         IT  9000\n",
      "31       E1031   Male  35 System Administrator      180000    Finance 12000\n",
      "32       E1032   Male  31      Project Manager      145000    Finance 19000\n",
      "33       E1033 Female  33      Project Manager      190000    Finance 11000\n",
      "34       E1034   Male  33      Project Manager      100000         HR 15000\n",
      "35       E1035 Female  39      Project Manager      120000         IT 13000\n",
      "36       E1036   Male  29    Software Engineer      195000    Finance  8000\n",
      "37       E1037   Male  36    Software Engineer      140000  Marketing  8000\n",
      "38       E1038   Male  38    Software Engineer      140000         IT 13000\n",
      "39       E1039   Male  35    Software Engineer      145000         IT 19000\n",
      "40       E1040 Female  25         Data Analyst      100000  Marketing 14000\n",
      "41       E1041   Male  38    Software Engineer      165000         IT 12000\n",
      "42       E1042   Male  36 System Administrator      190000  Marketing  6000\n",
      "43       E1043   Male  32      Project Manager      100000    Finance 10000\n",
      "44       E1044 Female  39    Software Engineer      165000  Marketing 14000\n",
      "45       E1045 Female  38 System Administrator      180000    Finance 10000\n",
      "46       E1046   Male  26 System Administrator      145000         HR 19000\n",
      "47       E1047   Male  31    Software Engineer      110000         IT 13000\n",
      "48       E1048 Female  34 System Administrator      130000    Finance 13000\n",
      "49       E1049   Male  29 System Administrator      145000         IT 13000\n",
      "50       E1050   Male  35         Data Analyst      110000    Finance 15000\n",
      "   Rating Experience Remotework TotalCompensation\n",
      "1       3          2          1            192000\n",
      "2       2          6          1            110000\n",
      "3       4         10          1            149000\n",
      "4       4          8          1            111000\n",
      "5       1         13          1            185000\n",
      "6       1          5          1            125000\n",
      "7       2         10          0            188000\n",
      "8       1          8          0            214000\n",
      "9       3          3          0            195000\n",
      "10      4          3          1            112000\n",
      "11      3          9          1            197000\n",
      "12      4         14          0            190000\n",
      "13      4          9          1            125000\n",
      "14      3         11          0            194000\n",
      "15      4          9          0            174000\n",
      "16      2          4          1            175000\n",
      "17      2          9          1            150000\n",
      "18      3         11          1            183000\n",
      "19      2          8          1            134000\n",
      "20      2         11          1            190000\n",
      "21      5          1          1            125000\n",
      "22      4          8          0            202000\n",
      "23      3         12          1            184000\n",
      "24      5         14          1            215000\n",
      "25      2          3          0            108000\n",
      "26      5         11          0            126000\n",
      "27      1         12          0            164000\n",
      "28      2         11          1            173000\n",
      "29      5          7          1            199000\n",
      "30      3         10          1            154000\n",
      "31      4          5          0            192000\n",
      "32      4          8          0            164000\n",
      "33      1          3          0            201000\n",
      "34      3          1          0            115000\n",
      "35      5          2          1            133000\n",
      "36      4         12          0            203000\n",
      "37      2         12          1            148000\n",
      "38      4         11          1            153000\n",
      "39      1          1          0            164000\n",
      "40      3          4          0            114000\n",
      "41      3          5          1            177000\n",
      "42      3          7          1            196000\n",
      "43      5         14          1            110000\n",
      "44      2         10          1            179000\n",
      "45      3         14          1            190000\n",
      "46      3         15          1            164000\n",
      "47      2         11          1            123000\n",
      "48      2          2          1            143000\n",
      "49      5          9          1            158000\n",
      "50      5         12          1            125000\n"
     ]
    }
   ],
   "source": [
    "Employee$TotalCompensation <- Employee$Base_Salary + Employee$Bonus\n",
    "print(Employee)"
   ]
  },
  {
   "cell_type": "code",
   "execution_count": 78,
   "metadata": {
    "vscode": {
     "languageId": "r"
    }
   },
   "outputs": [
    {
     "name": "stdout",
     "output_type": "stream",
     "text": [
      " [1] E1001 E1002 E1003 E1004 E1005 E1006 E1007 E1008 E1009 E1010 E1011 E1012\n",
      "[13] E1013 E1014 E1015 E1016 E1017 E1018 E1019 E1020 E1021 E1022 E1023 E1024\n",
      "[25] E1025 E1026 E1027 E1028 E1029 E1030 E1031 E1032 E1033 E1034 E1035 E1036\n",
      "[37] E1037 E1038 E1039 E1040 E1041 E1042 E1043 E1044 E1045 E1046 E1047 E1048\n",
      "[49] E1049 E1050\n",
      "50 Levels: E1001 E1002 E1003 E1004 E1005 E1006 E1007 E1008 E1009 ... E1050\n"
     ]
    }
   ],
   "source": [
    "Employee_Id_factor <- factor(Employee_Id)\n",
    "print(Employee_Id_factor)"
   ]
  },
  {
   "cell_type": "code",
   "execution_count": 79,
   "metadata": {
    "vscode": {
     "languageId": "r"
    }
   },
   "outputs": [
    {
     "name": "stdout",
     "output_type": "stream",
     "text": [
      "   Employee_Id Gender Age             Position Base_Salary Department Bonus\n",
      "3        E1003   Male  27         Data Analyst      130000         IT 19000\n",
      "5        E1005   Male  40 System Administrator      170000         IT 15000\n",
      "11       E1011 Female  38    Software Engineer      185000         IT 12000\n",
      "18       E1018   Male  37 System Administrator      170000         IT 13000\n",
      "21       E1021   Male  35 System Administrator      115000         IT 10000\n",
      "29       E1029 Female  32         Data Analyst      180000         IT 19000\n",
      "30       E1030   Male  26      Project Manager      145000         IT  9000\n",
      "35       E1035 Female  39      Project Manager      120000         IT 13000\n",
      "38       E1038   Male  38    Software Engineer      140000         IT 13000\n",
      "41       E1041   Male  38    Software Engineer      165000         IT 12000\n",
      "47       E1047   Male  31    Software Engineer      110000         IT 13000\n",
      "49       E1049   Male  29 System Administrator      145000         IT 13000\n",
      "   Rating Experience Remotework TotalCompensation\n",
      "3       4         10          1            149000\n",
      "5       1         13          1            185000\n",
      "11      3          9          1            197000\n",
      "18      3         11          1            183000\n",
      "21      5          1          1            125000\n",
      "29      5          7          1            199000\n",
      "30      3         10          1            154000\n",
      "35      5          2          1            133000\n",
      "38      4         11          1            153000\n",
      "41      3          5          1            177000\n",
      "47      2         11          1            123000\n",
      "49      5          9          1            158000\n"
     ]
    }
   ],
   "source": [
    "Eligible <- Employee[Employee$Department == \"IT\" & Employee$Remotework == 1, ]\n",
    "print(Eligible)"
   ]
  },
  {
   "cell_type": "code",
   "execution_count": 80,
   "metadata": {
    "vscode": {
     "languageId": "r"
    }
   },
   "outputs": [
    {
     "name": "stdout",
     "output_type": "stream",
     "text": [
      "   Employee_Id Gender Age             Position Base_Salary Department Bonus\n",
      "3        E1003   Male  27         Data Analyst      130000         IT 19000\n",
      "4        E1004   Male  27    Software Engineer      105000         HR  6000\n",
      "10       E1010   Male  32 System Administrator      105000         HR  7000\n",
      "12       E1012   Male  29      Project Manager      170000         HR 20000\n",
      "13       E1013 Female  35 System Administrator      110000         HR 15000\n",
      "15       E1015 Female  32      Project Manager      165000         HR  9000\n",
      "21       E1021   Male  35 System Administrator      115000         IT 10000\n",
      "22       E1022 Female  33         Data Analyst      195000    Finance  7000\n",
      "24       E1024 Female  40         Data Analyst      195000         HR 20000\n",
      "26       E1026 Female  40    Software Engineer      110000    Finance 16000\n",
      "29       E1029 Female  32         Data Analyst      180000         IT 19000\n",
      "31       E1031   Male  35 System Administrator      180000    Finance 12000\n",
      "32       E1032   Male  31      Project Manager      145000    Finance 19000\n",
      "35       E1035 Female  39      Project Manager      120000         IT 13000\n",
      "36       E1036   Male  29    Software Engineer      195000    Finance  8000\n",
      "38       E1038   Male  38    Software Engineer      140000         IT 13000\n",
      "43       E1043   Male  32      Project Manager      100000    Finance 10000\n",
      "49       E1049   Male  29 System Administrator      145000         IT 13000\n",
      "50       E1050   Male  35         Data Analyst      110000    Finance 15000\n",
      "   Rating Experience Remotework TotalCompensation\n",
      "3       4         10          1            149000\n",
      "4       4          8          1            111000\n",
      "10      4          3          1            112000\n",
      "12      4         14          0            190000\n",
      "13      4          9          1            125000\n",
      "15      4          9          0            174000\n",
      "21      5          1          1            125000\n",
      "22      4          8          0            202000\n",
      "24      5         14          1            215000\n",
      "26      5         11          0            126000\n",
      "29      5          7          1            199000\n",
      "31      4          5          0            192000\n",
      "32      4          8          0            164000\n",
      "35      5          2          1            133000\n",
      "36      4         12          0            203000\n",
      "38      4         11          1            153000\n",
      "43      5         14          1            110000\n",
      "49      5          9          1            158000\n",
      "50      5         12          1            125000\n"
     ]
    }
   ],
   "source": [
    "Performance <- Employee[Employee$Rating >= 4, ]\n",
    "print(Performance)"
   ]
  },
  {
   "cell_type": "code",
   "execution_count": 83,
   "metadata": {
    "vscode": {
     "languageId": "r"
    }
   },
   "outputs": [
    {
     "name": "stdout",
     "output_type": "stream",
     "text": [
      "  Employee$Department Employee$Base_Salary\n",
      "1             Finance             158823.5\n",
      "2                  HR             135000.0\n",
      "3                  IT             147500.0\n",
      "4           Marketing             147500.0\n"
     ]
    }
   ],
   "source": [
    "avg_salary <- aggregate(Employee$Base_Salary ~ Employee$Department, data = Employee, FUN = mean)\n",
    "print(avg_salary)\n"
   ]
  },
  {
   "cell_type": "code",
   "execution_count": 86,
   "metadata": {
    "vscode": {
     "languageId": "r"
    }
   },
   "outputs": [
    {
     "name": "stdout",
     "output_type": "stream",
     "text": [
      "Gender\n",
      "Female   Male \n",
      "   0.3    0.7 \n"
     ]
    }
   ],
   "source": [
    "gender_table <- table(Gender)\n",
    "gender_proportion <- gender_table / sum(gender_table)\n",
    "print(gender_proportion)"
   ]
  },
  {
   "cell_type": "code",
   "execution_count": 87,
   "metadata": {
    "vscode": {
     "languageId": "r"
    }
   },
   "outputs": [
    {
     "data": {
      "image/png": "[encoded data removed]",
      "text/plain": [
       "Plot with title \"Histogram of Age\""
      ]
     },
     "metadata": {
      "image/png": {
       "height": 420,
       "width": 420
      }
     },
     "output_type": "display_data"
    }
   ],
   "source": [
    "par(bg=\"white\")\n",
    "hist(Employee$Age, main = \"Histogram of Age\", xlab = \"Age\", ylab = \"Frequency\", col = \"lightblue\", border = \"black\")"
   ]
  },
  {
   "cell_type": "code",
   "execution_count": 93,
   "metadata": {
    "vscode": {
     "languageId": "r"
    }
   },
   "outputs": [
    {
     "data": {
      "image/png": "[encoded data removed]",
      "text/plain": [
       "Plot with title \"Boxplot of Base Salary by Position\""
      ]
     },
     "metadata": {
      "image/png": {
       "height": 420,
       "width": 420
      }
     },
     "output_type": "display_data"
    }
   ],
   "source": [
    "par(bg=\"white\")\n",
    "boxplot(Employee$Base_Salary ~ Employee$Position, data = Employee, main = \"Boxplot of Base Salary by Position\", xlab = \"Position\", ylab = \"Base Salary\", col = \"lightblue\", border = \"black\")"
   ]
  },
  {
   "cell_type": "code",
   "execution_count": 94,
   "metadata": {
    "vscode": {
     "languageId": "r"
    }
   },
   "outputs": [
    {
     "data": {
      "image/png": "[encoded data removed]",
      "text/plain": [
       "Plot with title \"Scatterplot of Experience vs Base Salary\""
      ]
     },
     "metadata": {
      "image/png": {
       "height": 420,
       "width": 420
      }
     },
     "output_type": "display_data"
    }
   ],
   "source": [
    "par(bg=\"white\")\n",
    "plot(Employee$Experience, Employee$Base_Salary, main = \"Scatterplot of Experience vs Base Salary\", xlab = \"Experience\", ylab = \"Base Salary\", col = \"blue\")"
   ]
  },
  {
   "cell_type": "code",
   "execution_count": null,
   "metadata": {
    "vscode": {
     "languageId": "r"
    }
   },
   "outputs": [
    {
     "name": "stdout",
     "output_type": "stream",
     "text": [
      "\u001b[90m# A tibble: 4 × 3\u001b[39m\n",
      "  `Employee$Position`  Bonus Performance_Rating\n",
      "  \u001b[3m\u001b[90m<chr>\u001b[39m\u001b[23m                \u001b[3m\u001b[90m<dbl>\u001b[39m\u001b[23m              \u001b[3m\u001b[90m<dbl>\u001b[39m\u001b[23m\n",
      "\u001b[90m1\u001b[39m Data Analyst         \u001b[4m1\u001b[24m\u001b[4m3\u001b[24m300               3.06\n",
      "\u001b[90m2\u001b[39m Project Manager      \u001b[4m1\u001b[24m\u001b[4m3\u001b[24m300               3.06\n",
      "\u001b[90m3\u001b[39m Software Engineer    \u001b[4m1\u001b[24m\u001b[4m3\u001b[24m300               3.06\n",
      "\u001b[90m4\u001b[39m System Administrator \u001b[4m1\u001b[24m\u001b[4m3\u001b[24m300               3.06\n"
     ]
    }
   ],
   "source": [
    "library(dplyr)\n",
    "\n",
    "avg_bonus_performance <- Employee %>%\n",
    "  group_by(Employee$Position) %>%\n",
    "  summarise(\n",
    "    Bonus = mean(Employee$Bonus),\n",
    "    Performance_Rating = mean(Employee$Rating)\n",
    "  )\n",
    "\n",
    "print(avg_bonus_performance)"
   ]
  },
  {
   "cell_type": "code",
   "execution_count": 106,
   "metadata": {
    "vscode": {
     "languageId": "r"
    }
   },
   "outputs": [
    {
     "name": "stdout",
     "output_type": "stream",
     "text": [
      "\u001b[90m# A tibble: 2 × 2\u001b[39m\n",
      "  `Employee$Gender` Average_Experience\n",
      "  \u001b[3m\u001b[90m<chr>\u001b[39m\u001b[23m                          \u001b[3m\u001b[90m<dbl>\u001b[39m\u001b[23m\n",
      "\u001b[90m1\u001b[39m Female                           8.2\n",
      "\u001b[90m2\u001b[39m Male                             8.2\n"
     ]
    }
   ],
   "source": [
    "average_experience <- Employee %>%\n",
    "  group_by(Employee$Gender) %>%\n",
    "  summarise(Average_Experience = mean(Employee$Experience))\n",
    "\n",
    "# Print the result\n",
    "print(average_experience)"
   ]
  },
  {
   "cell_type": "code",
   "execution_count": 107,
   "metadata": {
    "vscode": {
     "languageId": "r"
    }
   },
   "outputs": [
    {
     "name": "stdout",
     "output_type": "stream",
     "text": [
      "[1] 140839.0 176808.1\n",
      "attr(,\"conf.level\")\n",
      "[1] 0.95\n"
     ]
    }
   ],
   "source": [
    "finance_data <- Employee[Employee$Departmen == \"Finance\", ]\n",
    "t_test_result <- t.test(finance_data$Base_Salary, conf.level = 0.95)\n",
    "print(t_test_result$conf.int)"
   ]
  },
  {
   "cell_type": "code",
   "execution_count": 109,
   "metadata": {
    "vscode": {
     "languageId": "r"
    }
   },
   "outputs": [
    {
     "name": "stdout",
     "output_type": "stream",
     "text": [
      "$Number_of_Employees\n",
      "[1] 11\n",
      "\n",
      "$Average_Salary\n",
      "[1] 135000\n",
      "\n",
      "$Average_Performance_Rating\n",
      "[1] 3.363636\n",
      "\n"
     ]
    }
   ],
   "source": [
    "get_department_summary <- function(department_name) {\n",
    "    department_data <- subset(Employee, Employee$Department == department_name)\n",
    "    num_employees <- nrow(department_data)\n",
    "    avg_salary <- mean(department_data$Base_Salary, na.rm = TRUE)\n",
    "    avg_performance_rating <- mean(department_data$Rating, na.rm = TRUE)\n",
    "\n",
    "    result <- list(\n",
    "        Number_of_Employees = num_employees,\n",
    "        Average_Salary = avg_salary,\n",
    "        Average_Performance_Rating = avg_performance_rating\n",
    "    )\n",
    "\n",
    "    return(result)\n",
    "}\n",
    "\n",
    "\n",
    "hr_summary <- get_department_summary(\"HR\")\n",
    "print(hr_summary)\n"
   ]
  },
  {
   "cell_type": "code",
   "execution_count": 110,
   "metadata": {
    "vscode": {
     "languageId": "r"
    }
   },
   "outputs": [
    {
     "name": "stdout",
     "output_type": "stream",
     "text": [
      "[1] 0.2204497\n"
     ]
    }
   ],
   "source": [
    "correlation <- cor(Employee$Experience, Employee$Base_Salary)\n",
    "print(correlation)"
   ]
  },
  {
   "cell_type": "code",
   "execution_count": 116,
   "metadata": {
    "vscode": {
     "languageId": "r"
    }
   },
   "outputs": [
    {
     "data": {
      "text/plain": [
       "\n",
       "Call:\n",
       "lm(formula = Employee$Base_Salary ~ Employee$Experience, data = Employee)\n",
       "\n",
       "Residuals:\n",
       "   Min     1Q Median     3Q    Max \n",
       "-58779 -26626   -881  27124  50526 \n",
       "\n",
       "Coefficients:\n",
       "                    Estimate Std. Error t value Pr(>|t|)    \n",
       "(Intercept)           134209      10226  13.125   <2e-16 ***\n",
       "Employee$Experience     1755       1121   1.566    0.124    \n",
       "---\n",
       "Signif. codes:  0 '***' 0.001 '**' 0.01 '*' 0.05 '.' 0.1 ' ' 1\n",
       "\n",
       "Residual standard error: 31700 on 48 degrees of freedom\n",
       "Multiple R-squared:  0.0486,\tAdjusted R-squared:  0.02878 \n",
       "F-statistic: 2.452 on 1 and 48 DF,  p-value: 0.124\n"
      ]
     },
     "metadata": {},
     "output_type": "display_data"
    }
   ],
   "source": [
    "model <- lm(Employee$Base_Salary ~ Employee$Experience, data = Employee)\n",
    "summary(model)"
   ]
  },
  {
   "cell_type": "code",
   "execution_count": 119,
   "metadata": {
    "vscode": {
     "languageId": "r"
    }
   },
   "outputs": [],
   "source": [
    "write.csv(Employee, \"employee_data.csv\", row.names = FALSE)"
   ]
  },
  {
   "cell_type": "markdown",
   "metadata": {},
   "source": [
    "                                    Question 2"
   ]
  },
  {
   "cell_type": "code",
   "execution_count": 121,
   "metadata": {
    "vscode": {
     "languageId": "r"
    }
   },
   "outputs": [
    {
     "name": "stdout",
     "output_type": "stream",
     "text": [
      "    sex weight height repwt repht\n",
      "1     M     77    182    77   180\n",
      "2     F     58    161    51   159\n",
      "3     F     53    161    54   158\n",
      "4     M     68    177    70   175\n",
      "5     F     59    157    59   155\n",
      "6     M     76    170    76   165\n",
      "7     M     76    167    77   165\n",
      "8     M     69    186    73   180\n",
      "9     M     71    178    71   175\n",
      "10    M     65    171    64   170\n",
      "11    M     70    175    75   174\n",
      "12    F    166     57    56   163\n",
      "13    F     51    161    52   158\n",
      "14    F     64    168    64   165\n",
      "15    F     52    163    57   160\n",
      "16    F     65    166    66   165\n",
      "17    M     92    187   101   185\n",
      "18    F     62    168    62   165\n",
      "19    M     76    197    75   200\n",
      "20    F     61    175    61   171\n",
      "21    M    119    180   124   178\n",
      "22    F     61    170    61   170\n",
      "23    M     65    175    66   173\n",
      "24    M     66    173    70   170\n",
      "25    F     54    171    59   168\n",
      "26    F     50    166    50   165\n",
      "27    F     63    169    61   168\n",
      "28    F     58    166    60   160\n",
      "29    F     39    157    41   153\n",
      "30    M    101    183   100   180\n",
      "31    F     71    166    71   165\n",
      "32    M     75    178    73   175\n",
      "33    M     79    173    76   173\n",
      "34    F     52    164    52   161\n",
      "35    F     68    169    63   170\n",
      "36    M     64    176    65   175\n",
      "37    F     56    166    54   165\n",
      "38    M     69    174    69   171\n",
      "39    M     88    178    86   175\n",
      "40    M     65    187    67   188\n",
      "41    F     54    164    53   160\n",
      "42    M     80    178    80   178\n",
      "43    F     63    163    59   159\n",
      "44    M     78    183    80   180\n",
      "45    M     85    179    82   175\n",
      "46    F     54    160    55   158\n",
      "47    M     73    180    NA    NA\n",
      "48    F     49    161    NA    NA\n",
      "49    F     54    174    56   173\n",
      "50    F     75    162    75   158\n",
      "51    M     82    182    85   183\n",
      "52    F     56    165    57   163\n",
      "53    M     74    169    73   170\n",
      "54    M    102    185   107   185\n",
      "55    M     64    177    NA    NA\n",
      "56    M     65    176    64   172\n",
      "57    F     66    170    65    NA\n",
      "58    M     73    183    74   180\n",
      "59    M     75    172    70   169\n",
      "60    M     57    173    58   170\n",
      "61    M     68    165    69   165\n",
      "62    M     71    177    71   170\n",
      "63    M     71    180    76   175\n",
      "64    F     78    173    75   169\n",
      "65    M     97    189    98   185\n",
      "66    F     60    162    59   160\n",
      "67    F     64    165    63   163\n",
      "68    F     64    164    62   161\n",
      "69    F     52    158    51   155\n",
      "70    M     80    178    76   175\n",
      "71    F     62    175    61   171\n",
      "72    M     66    173    66   175\n",
      "73    F     55    165    54   163\n",
      "74    F     56    163    57   159\n",
      "75    F     50    166    50   161\n",
      "76    F     50    171    NA    NA\n",
      "77    F     50    160    55   150\n",
      "78    F     63    160    64   158\n",
      "79    M     69    182    70   180\n",
      "80    M     69    183    70   183\n",
      "81    F     61    165    60   163\n",
      "82    M     55    168    56   170\n",
      "83    F     53    169    52   175\n",
      "84    F     60    167    55   163\n",
      "85    F     56    170    56   170\n",
      "86    M     59    182    61   183\n",
      "87    M     62    178    66   175\n",
      "88    F     53    165    53   165\n",
      "89    F     57    163    59   160\n",
      "90    F     57    162    56   160\n",
      "91    M     70    173    68   170\n",
      "92    F     56    161    56   161\n",
      "93    M     84    184    86   183\n",
      "94    M     69    180    71   180\n",
      "95    M     88    189    87   185\n",
      "96    F     56    165    57   160\n",
      "97    M    103    185   101   182\n",
      "98    F     50    169    50   165\n",
      "99    F     52    159    52   153\n",
      "100   F     55    155    NA   154\n",
      "101   F     55    164    55   163\n",
      "102   M     63    178    63   175\n",
      "103   F     47    163    47   160\n",
      "104   F     45    163    45   160\n",
      "105   F     62    175    63   173\n",
      "106   F     53    164    51   160\n",
      "107   F     52    152    51   150\n",
      "108   F     57    167    55   164\n",
      "109   F     64    166    64   165\n",
      "110   F     59    166    55   163\n",
      "111   M     84    183    90   183\n",
      "112   M     79    179    79   171\n",
      "113   F     55    174    57   171\n",
      "114   M     67    179    67   179\n",
      "115   F     76    167    77   165\n",
      "116   F     62    168    62   163\n",
      "117   M     83    184    83   181\n",
      "118   M     96    184    94   183\n",
      "119   M     75    169    76   165\n",
      "120   M     65    178    66   178\n",
      "121   M     78    178    77   175\n",
      "122   M     69    167    73   165\n",
      "123   F     68    178    68   175\n",
      "124   F     55    165    55   163\n",
      "125   M     67    179    NA    NA\n",
      "126   F     52    169    56    NA\n",
      "127   F     47    153    NA   154\n",
      "128   F     45    157    45   153\n",
      "129   F     68    171    68   169\n",
      "130   F     44    157    44   155\n",
      "131   F     62    166    61   163\n",
      "132   M     87    185    89   185\n",
      "133   F     56    160    53   158\n",
      "134   F     50    148    47   148\n",
      "135   M     83    177    84   175\n",
      "136   F     53    162    53   160\n",
      "137   F     64    172    62   168\n",
      "138   F     62    167    NA    NA\n",
      "139   M     90    188    91   185\n",
      "140   M     85    191    83   188\n",
      "141   M     66    175    68   175\n",
      "142   F     52    163    53   160\n",
      "143   F     53    165    55   163\n",
      "144   F     54    176    55   176\n",
      "145   F     64    171    66   171\n",
      "146   F     55    160    55   155\n",
      "147   F     55    165    55   165\n",
      "148   F     59    157    55   158\n",
      "149   F     70    173    67   170\n",
      "150   M     88    184    86   183\n",
      "151   F     57    168    58   165\n",
      "152   F     47    162    47   160\n",
      "153   F     47    150    45   152\n",
      "154   F     55    162    NA    NA\n",
      "155   F     48    163    44   160\n",
      "156   M     54    169    58   165\n",
      "157   M     69    172    68   174\n",
      "158   F     59    170    NA    NA\n",
      "159   F     58    169    NA    NA\n",
      "160   F     57    167    56   165\n",
      "161   F     51    163    50   160\n",
      "162   F     54    161    54   160\n",
      "163   F     53    162    52   158\n",
      "164   F     59    172    58   171\n",
      "165   M     56    163    58   161\n",
      "166   F     59    159    59   155\n",
      "167   F     63    170    62   168\n",
      "168   F     66    166    66   165\n",
      "169   M     96    191    95   188\n",
      "170   F     53    158    50   155\n",
      "171   M     76    169    75   165\n",
      "172   F     54    163    NA    NA\n",
      "173   M     61    170    61   170\n",
      "174   M     82    176    NA    NA\n",
      "175   M     62    168    64   168\n",
      "176   M     71    178    68   178\n",
      "177   F     60    174    NA    NA\n",
      "178   M     66    170    67   165\n",
      "179   M     81    178    82   175\n",
      "180   M     68    174    68   173\n",
      "181   M     80    176    78   175\n",
      "182   F     43    154    NA    NA\n",
      "183   M     82    181    NA    NA\n",
      "184   F     63    165    59   160\n",
      "185   M     70    173    70   173\n",
      "186   F     56    162    56   160\n",
      "187   F     60    172    55   168\n",
      "188   F     58    169    54   166\n",
      "189   M     76    183    75   180\n",
      "190   F     50    158    49   155\n",
      "191   M     88    185    93   188\n",
      "192   M     89    173    86   173\n",
      "193   F     59    164    59   165\n",
      "194   F     51    156    51   158\n",
      "195   F     62    164    61   161\n",
      "196   M     74    175    71   175\n",
      "197   M     83    180    80   180\n",
      "198   M     81    175    NA    NA\n",
      "199   M     90    181    91   178\n",
      "200   M     79    177    81   178\n"
     ]
    }
   ],
   "source": [
    "Data <-carData::Davis\n",
    "print(Data)"
   ]
  },
  {
   "cell_type": "code",
   "execution_count": 131,
   "metadata": {
    "vscode": {
     "languageId": "r"
    }
   },
   "outputs": [
    {
     "data": {
      "text/plain": [
       " sex         weight          height          repwt            repht      \n",
       " F:112   Min.   : 39.0   Min.   : 57.0   Min.   : 41.00   Min.   :148.0  \n",
       " M: 88   1st Qu.: 55.0   1st Qu.:164.0   1st Qu.: 55.00   1st Qu.:160.5  \n",
       "         Median : 63.0   Median :169.5   Median : 63.00   Median :168.0  \n",
       "         Mean   : 65.8   Mean   :170.0   Mean   : 65.62   Mean   :168.5  \n",
       "         3rd Qu.: 74.0   3rd Qu.:177.2   3rd Qu.: 73.50   3rd Qu.:175.0  \n",
       "         Max.   :166.0   Max.   :197.0   Max.   :124.00   Max.   :200.0  \n",
       "                                         NA's   :17       NA's   :17     "
      ]
     },
     "metadata": {},
     "output_type": "display_data"
    }
   ],
   "source": [
    "summary(Data)"
   ]
  },
  {
   "cell_type": "code",
   "execution_count": 132,
   "metadata": {
    "vscode": {
     "languageId": "r"
    }
   },
   "outputs": [
    {
     "data": {
      "text/plain": [
       "\n",
       "  F   M \n",
       "112  88 "
      ]
     },
     "metadata": {},
     "output_type": "display_data"
    },
    {
     "data": {
      "text/plain": [
       "\n",
       "   F    M \n",
       "0.56 0.44 "
      ]
     },
     "metadata": {},
     "output_type": "display_data"
    }
   ],
   "source": [
    "table(Data$sex)\n",
    "prop.table(table(Data$sex))         #Analysis of sex"
   ]
  },
  {
   "cell_type": "code",
   "execution_count": 133,
   "metadata": {
    "vscode": {
     "languageId": "r"
    }
   },
   "outputs": [
    {
     "data": {
      "text/plain": [
       "     Min.   1st Qu.    Median      Mean   3rd Qu.      Max.      NA's \n",
       "-110.0000   -1.0000    0.0000   -0.6011    1.0000    9.0000        17 "
      ]
     },
     "metadata": {},
     "output_type": "display_data"
    },
    {
     "data": {
      "text/plain": [
       "   Min. 1st Qu.  Median    Mean 3rd Qu.    Max.    NA's \n",
       "-10.000  -3.000  -2.000  -1.481  -1.000 106.000      17 "
      ]
     },
     "metadata": {},
     "output_type": "display_data"
    }
   ],
   "source": [
    "Data$Weight_Diff <- Data$repwt - Data$weight\n",
    "Data$Height_Diff <- Data$repht - Data$height\n",
    "\n",
    "summary(Data$Weight_Diff)\n",
    "summary(Data$Height_Diff)"
   ]
  },
  {
   "cell_type": "code",
   "execution_count": 137,
   "metadata": {
    "vscode": {
     "languageId": "r"
    }
   },
   "outputs": [
    {
     "name": "stdout",
     "output_type": "stream",
     "text": [
      "Proportion of males in the sample: 0.44 \n"
     ]
    }
   ],
   "source": [
    "num_males <- sum(Data$sex == \"M\")\n",
    "n <- nrow(Data)\n",
    "p_hat <- num_males / n\n",
    "cat(\"Proportion of males in the sample:\", p_hat, \"\\n\")"
   ]
  },
  {
   "cell_type": "code",
   "execution_count": 138,
   "metadata": {
    "vscode": {
     "languageId": "r"
    }
   },
   "outputs": [
    {
     "name": "stdout",
     "output_type": "stream",
     "text": [
      "99% Confidence Interval for population proportion of males: 0.3495888 to 0.5304112 \n"
     ]
    }
   ],
   "source": [
    "z_value <- qnorm(0.995)\n",
    "SE <- sqrt((p_hat * (1 - p_hat)) / n)\n",
    "\n",
    "lower_CI <- p_hat - z_value * SE\n",
    "upper_CI <- p_hat + z_value * SE\n",
    "\n",
    "cat(\"99% Confidence Interval for population proportion of males:\", lower_CI, \"to\", upper_CI, \"\\n\")"
   ]
  },
  {
   "cell_type": "code",
   "execution_count": null,
   "metadata": {
    "vscode": {
     "languageId": "r"
    }
   },
   "outputs": [
    {
     "name": "stdout",
     "output_type": "stream",
     "text": [
      "    sex weight height repwt repht Weight_Diff Height_Diff\n",
      "1     M     77    182    77   180           0          -2\n",
      "4     M     68    177    70   175           2          -2\n",
      "6     M     76    170    76   165           0          -5\n",
      "7     M     76    167    77   165           1          -2\n",
      "8     M     69    186    73   180           4          -6\n",
      "9     M     71    178    71   175           0          -3\n",
      "10    M     65    171    64   170          -1          -1\n",
      "11    M     70    175    75   174           5          -1\n",
      "17    M     92    187   101   185           9          -2\n",
      "19    M     76    197    75   200          -1           3\n",
      "21    M    119    180   124   178           5          -2\n",
      "23    M     65    175    66   173           1          -2\n",
      "24    M     66    173    70   170           4          -3\n",
      "30    M    101    183   100   180          -1          -3\n",
      "32    M     75    178    73   175          -2          -3\n",
      "33    M     79    173    76   173          -3           0\n",
      "36    M     64    176    65   175           1          -1\n",
      "38    M     69    174    69   171           0          -3\n",
      "39    M     88    178    86   175          -2          -3\n",
      "40    M     65    187    67   188           2           1\n",
      "42    M     80    178    80   178           0           0\n",
      "44    M     78    183    80   180           2          -3\n",
      "45    M     85    179    82   175          -3          -4\n",
      "47    M     73    180    NA    NA          NA          NA\n",
      "51    M     82    182    85   183           3           1\n",
      "53    M     74    169    73   170          -1           1\n",
      "54    M    102    185   107   185           5           0\n",
      "55    M     64    177    NA    NA          NA          NA\n",
      "56    M     65    176    64   172          -1          -4\n",
      "58    M     73    183    74   180           1          -3\n",
      "59    M     75    172    70   169          -5          -3\n",
      "60    M     57    173    58   170           1          -3\n",
      "61    M     68    165    69   165           1           0\n",
      "62    M     71    177    71   170           0          -7\n",
      "63    M     71    180    76   175           5          -5\n",
      "65    M     97    189    98   185           1          -4\n",
      "70    M     80    178    76   175          -4          -3\n",
      "72    M     66    173    66   175           0           2\n",
      "79    M     69    182    70   180           1          -2\n",
      "80    M     69    183    70   183           1           0\n",
      "82    M     55    168    56   170           1           2\n",
      "86    M     59    182    61   183           2           1\n",
      "87    M     62    178    66   175           4          -3\n",
      "91    M     70    173    68   170          -2          -3\n",
      "93    M     84    184    86   183           2          -1\n",
      "94    M     69    180    71   180           2           0\n",
      "95    M     88    189    87   185          -1          -4\n",
      "97    M    103    185   101   182          -2          -3\n",
      "102   M     63    178    63   175           0          -3\n",
      "111   M     84    183    90   183           6           0\n",
      "112   M     79    179    79   171           0          -8\n",
      "114   M     67    179    67   179           0           0\n",
      "117   M     83    184    83   181           0          -3\n",
      "118   M     96    184    94   183          -2          -1\n",
      "119   M     75    169    76   165           1          -4\n",
      "120   M     65    178    66   178           1           0\n",
      "121   M     78    178    77   175          -1          -3\n",
      "122   M     69    167    73   165           4          -2\n",
      "125   M     67    179    NA    NA          NA          NA\n",
      "132   M     87    185    89   185           2           0\n",
      "135   M     83    177    84   175           1          -2\n",
      "139   M     90    188    91   185           1          -3\n",
      "140   M     85    191    83   188          -2          -3\n",
      "141   M     66    175    68   175           2           0\n",
      "150   M     88    184    86   183          -2          -1\n",
      "156   M     54    169    58   165           4          -4\n",
      "157   M     69    172    68   174          -1           2\n",
      "165   M     56    163    58   161           2          -2\n",
      "169   M     96    191    95   188          -1          -3\n",
      "171   M     76    169    75   165          -1          -4\n",
      "173   M     61    170    61   170           0           0\n",
      "174   M     82    176    NA    NA          NA          NA\n",
      "175   M     62    168    64   168           2           0\n",
      "176   M     71    178    68   178          -3           0\n",
      "178   M     66    170    67   165           1          -5\n",
      "179   M     81    178    82   175           1          -3\n",
      "180   M     68    174    68   173           0          -1\n",
      "181   M     80    176    78   175          -2          -1\n",
      "183   M     82    181    NA    NA          NA          NA\n",
      "185   M     70    173    70   173           0           0\n",
      "189   M     76    183    75   180          -1          -3\n",
      "191   M     88    185    93   188           5           3\n",
      "192   M     89    173    86   173          -3           0\n",
      "196   M     74    175    71   175          -3           0\n",
      "197   M     83    180    80   180          -3           0\n",
      "198   M     81    175    NA    NA          NA          NA\n",
      "199   M     90    181    91   178           1          -3\n",
      "200   M     79    177    81   178           2           1\n",
      "    sex weight height repwt repht Weight_Diff Height_Diff\n",
      "2     F     58    161    51   159          -7          -2\n",
      "3     F     53    161    54   158           1          -3\n",
      "5     F     59    157    59   155           0          -2\n",
      "12    F    166     57    56   163        -110         106\n",
      "13    F     51    161    52   158           1          -3\n",
      "14    F     64    168    64   165           0          -3\n",
      "15    F     52    163    57   160           5          -3\n",
      "16    F     65    166    66   165           1          -1\n",
      "18    F     62    168    62   165           0          -3\n",
      "20    F     61    175    61   171           0          -4\n",
      "22    F     61    170    61   170           0           0\n",
      "25    F     54    171    59   168           5          -3\n",
      "26    F     50    166    50   165           0          -1\n",
      "27    F     63    169    61   168          -2          -1\n",
      "28    F     58    166    60   160           2          -6\n",
      "29    F     39    157    41   153           2          -4\n",
      "31    F     71    166    71   165           0          -1\n",
      "34    F     52    164    52   161           0          -3\n",
      "35    F     68    169    63   170          -5           1\n",
      "37    F     56    166    54   165          -2          -1\n",
      "41    F     54    164    53   160          -1          -4\n",
      "43    F     63    163    59   159          -4          -4\n",
      "46    F     54    160    55   158           1          -2\n",
      "48    F     49    161    NA    NA          NA          NA\n",
      "49    F     54    174    56   173           2          -1\n",
      "50    F     75    162    75   158           0          -4\n",
      "52    F     56    165    57   163           1          -2\n",
      "57    F     66    170    65    NA          -1          NA\n",
      "64    F     78    173    75   169          -3          -4\n",
      "66    F     60    162    59   160          -1          -2\n",
      "67    F     64    165    63   163          -1          -2\n",
      "68    F     64    164    62   161          -2          -3\n",
      "69    F     52    158    51   155          -1          -3\n",
      "71    F     62    175    61   171          -1          -4\n",
      "73    F     55    165    54   163          -1          -2\n",
      "74    F     56    163    57   159           1          -4\n",
      "75    F     50    166    50   161           0          -5\n",
      "76    F     50    171    NA    NA          NA          NA\n",
      "77    F     50    160    55   150           5         -10\n",
      "78    F     63    160    64   158           1          -2\n",
      "81    F     61    165    60   163          -1          -2\n",
      "83    F     53    169    52   175          -1           6\n",
      "84    F     60    167    55   163          -5          -4\n",
      "85    F     56    170    56   170           0           0\n",
      "88    F     53    165    53   165           0           0\n",
      "89    F     57    163    59   160           2          -3\n",
      "90    F     57    162    56   160          -1          -2\n",
      "92    F     56    161    56   161           0           0\n",
      "96    F     56    165    57   160           1          -5\n",
      "98    F     50    169    50   165           0          -4\n",
      "99    F     52    159    52   153           0          -6\n",
      "100   F     55    155    NA   154          NA          -1\n",
      "101   F     55    164    55   163           0          -1\n",
      "103   F     47    163    47   160           0          -3\n",
      "104   F     45    163    45   160           0          -3\n",
      "105   F     62    175    63   173           1          -2\n",
      "106   F     53    164    51   160          -2          -4\n",
      "107   F     52    152    51   150          -1          -2\n",
      "108   F     57    167    55   164          -2          -3\n",
      "109   F     64    166    64   165           0          -1\n",
      "110   F     59    166    55   163          -4          -3\n",
      "113   F     55    174    57   171           2          -3\n",
      "115   F     76    167    77   165           1          -2\n",
      "116   F     62    168    62   163           0          -5\n",
      "123   F     68    178    68   175           0          -3\n",
      "124   F     55    165    55   163           0          -2\n",
      "126   F     52    169    56    NA           4          NA\n",
      "127   F     47    153    NA   154          NA           1\n",
      "128   F     45    157    45   153           0          -4\n",
      "129   F     68    171    68   169           0          -2\n",
      "130   F     44    157    44   155           0          -2\n",
      "131   F     62    166    61   163          -1          -3\n",
      "133   F     56    160    53   158          -3          -2\n",
      "134   F     50    148    47   148          -3           0\n",
      "136   F     53    162    53   160           0          -2\n",
      "137   F     64    172    62   168          -2          -4\n",
      "138   F     62    167    NA    NA          NA          NA\n",
      "142   F     52    163    53   160           1          -3\n",
      "143   F     53    165    55   163           2          -2\n",
      "144   F     54    176    55   176           1           0\n",
      "145   F     64    171    66   171           2           0\n",
      "146   F     55    160    55   155           0          -5\n",
      "147   F     55    165    55   165           0           0\n",
      "148   F     59    157    55   158          -4           1\n",
      "149   F     70    173    67   170          -3          -3\n",
      "151   F     57    168    58   165           1          -3\n",
      "152   F     47    162    47   160           0          -2\n",
      "153   F     47    150    45   152          -2           2\n",
      "154   F     55    162    NA    NA          NA          NA\n",
      "155   F     48    163    44   160          -4          -3\n",
      "158   F     59    170    NA    NA          NA          NA\n",
      "159   F     58    169    NA    NA          NA          NA\n",
      "160   F     57    167    56   165          -1          -2\n",
      "161   F     51    163    50   160          -1          -3\n",
      "162   F     54    161    54   160           0          -1\n",
      "163   F     53    162    52   158          -1          -4\n",
      "164   F     59    172    58   171          -1          -1\n",
      "166   F     59    159    59   155           0          -4\n",
      "167   F     63    170    62   168          -1          -2\n",
      "168   F     66    166    66   165           0          -1\n",
      "170   F     53    158    50   155          -3          -3\n",
      "172   F     54    163    NA    NA          NA          NA\n",
      "177   F     60    174    NA    NA          NA          NA\n",
      "182   F     43    154    NA    NA          NA          NA\n",
      "184   F     63    165    59   160          -4          -5\n",
      "186   F     56    162    56   160           0          -2\n",
      "187   F     60    172    55   168          -5          -4\n",
      "188   F     58    169    54   166          -4          -3\n",
      "190   F     50    158    49   155          -1          -3\n",
      "193   F     59    164    59   165           0           1\n",
      "194   F     51    156    51   158           0           2\n",
      "195   F     62    164    61   161          -1          -3\n"
     ]
    }
   ],
   "source": [
    "males <- Data[Data$sex == \"M\", ]\n",
    "\n",
    "print(males)"
   ]
  },
  {
   "cell_type": "code",
   "execution_count": 144,
   "metadata": {
    "vscode": {
     "languageId": "r"
    }
   },
   "outputs": [
    {
     "name": "stdout",
     "output_type": "stream",
     "text": [
      "    sex weight height repwt repht Weight_Diff Height_Diff\n",
      "2     F     58    161    51   159          -7          -2\n",
      "3     F     53    161    54   158           1          -3\n",
      "5     F     59    157    59   155           0          -2\n",
      "12    F    166     57    56   163        -110         106\n",
      "13    F     51    161    52   158           1          -3\n",
      "14    F     64    168    64   165           0          -3\n",
      "15    F     52    163    57   160           5          -3\n",
      "16    F     65    166    66   165           1          -1\n",
      "18    F     62    168    62   165           0          -3\n",
      "20    F     61    175    61   171           0          -4\n",
      "22    F     61    170    61   170           0           0\n",
      "25    F     54    171    59   168           5          -3\n",
      "26    F     50    166    50   165           0          -1\n",
      "27    F     63    169    61   168          -2          -1\n",
      "28    F     58    166    60   160           2          -6\n",
      "29    F     39    157    41   153           2          -4\n",
      "31    F     71    166    71   165           0          -1\n",
      "34    F     52    164    52   161           0          -3\n",
      "35    F     68    169    63   170          -5           1\n",
      "37    F     56    166    54   165          -2          -1\n",
      "41    F     54    164    53   160          -1          -4\n",
      "43    F     63    163    59   159          -4          -4\n",
      "46    F     54    160    55   158           1          -2\n",
      "48    F     49    161    NA    NA          NA          NA\n",
      "49    F     54    174    56   173           2          -1\n",
      "50    F     75    162    75   158           0          -4\n",
      "52    F     56    165    57   163           1          -2\n",
      "57    F     66    170    65    NA          -1          NA\n",
      "64    F     78    173    75   169          -3          -4\n",
      "66    F     60    162    59   160          -1          -2\n",
      "67    F     64    165    63   163          -1          -2\n",
      "68    F     64    164    62   161          -2          -3\n",
      "69    F     52    158    51   155          -1          -3\n",
      "71    F     62    175    61   171          -1          -4\n",
      "73    F     55    165    54   163          -1          -2\n",
      "74    F     56    163    57   159           1          -4\n",
      "75    F     50    166    50   161           0          -5\n",
      "76    F     50    171    NA    NA          NA          NA\n",
      "77    F     50    160    55   150           5         -10\n",
      "78    F     63    160    64   158           1          -2\n",
      "81    F     61    165    60   163          -1          -2\n",
      "83    F     53    169    52   175          -1           6\n",
      "84    F     60    167    55   163          -5          -4\n",
      "85    F     56    170    56   170           0           0\n",
      "88    F     53    165    53   165           0           0\n",
      "89    F     57    163    59   160           2          -3\n",
      "90    F     57    162    56   160          -1          -2\n",
      "92    F     56    161    56   161           0           0\n",
      "96    F     56    165    57   160           1          -5\n",
      "98    F     50    169    50   165           0          -4\n",
      "99    F     52    159    52   153           0          -6\n",
      "100   F     55    155    NA   154          NA          -1\n",
      "101   F     55    164    55   163           0          -1\n",
      "103   F     47    163    47   160           0          -3\n",
      "104   F     45    163    45   160           0          -3\n",
      "105   F     62    175    63   173           1          -2\n",
      "106   F     53    164    51   160          -2          -4\n",
      "107   F     52    152    51   150          -1          -2\n",
      "108   F     57    167    55   164          -2          -3\n",
      "109   F     64    166    64   165           0          -1\n",
      "110   F     59    166    55   163          -4          -3\n",
      "113   F     55    174    57   171           2          -3\n",
      "115   F     76    167    77   165           1          -2\n",
      "116   F     62    168    62   163           0          -5\n",
      "123   F     68    178    68   175           0          -3\n",
      "124   F     55    165    55   163           0          -2\n",
      "126   F     52    169    56    NA           4          NA\n",
      "127   F     47    153    NA   154          NA           1\n",
      "128   F     45    157    45   153           0          -4\n",
      "129   F     68    171    68   169           0          -2\n",
      "130   F     44    157    44   155           0          -2\n",
      "131   F     62    166    61   163          -1          -3\n",
      "133   F     56    160    53   158          -3          -2\n",
      "134   F     50    148    47   148          -3           0\n",
      "136   F     53    162    53   160           0          -2\n",
      "137   F     64    172    62   168          -2          -4\n",
      "138   F     62    167    NA    NA          NA          NA\n",
      "142   F     52    163    53   160           1          -3\n",
      "143   F     53    165    55   163           2          -2\n",
      "144   F     54    176    55   176           1           0\n",
      "145   F     64    171    66   171           2           0\n",
      "146   F     55    160    55   155           0          -5\n",
      "147   F     55    165    55   165           0           0\n",
      "148   F     59    157    55   158          -4           1\n",
      "149   F     70    173    67   170          -3          -3\n",
      "151   F     57    168    58   165           1          -3\n",
      "152   F     47    162    47   160           0          -2\n",
      "153   F     47    150    45   152          -2           2\n",
      "154   F     55    162    NA    NA          NA          NA\n",
      "155   F     48    163    44   160          -4          -3\n",
      "158   F     59    170    NA    NA          NA          NA\n",
      "159   F     58    169    NA    NA          NA          NA\n",
      "160   F     57    167    56   165          -1          -2\n",
      "161   F     51    163    50   160          -1          -3\n",
      "162   F     54    161    54   160           0          -1\n",
      "163   F     53    162    52   158          -1          -4\n",
      "164   F     59    172    58   171          -1          -1\n",
      "166   F     59    159    59   155           0          -4\n",
      "167   F     63    170    62   168          -1          -2\n",
      "168   F     66    166    66   165           0          -1\n",
      "170   F     53    158    50   155          -3          -3\n",
      "172   F     54    163    NA    NA          NA          NA\n",
      "177   F     60    174    NA    NA          NA          NA\n",
      "182   F     43    154    NA    NA          NA          NA\n",
      "184   F     63    165    59   160          -4          -5\n",
      "186   F     56    162    56   160           0          -2\n",
      "187   F     60    172    55   168          -5          -4\n",
      "188   F     58    169    54   166          -4          -3\n",
      "190   F     50    158    49   155          -1          -3\n",
      "193   F     59    164    59   165           0           1\n",
      "194   F     51    156    51   158           0           2\n",
      "195   F     62    164    61   161          -1          -3\n"
     ]
    }
   ],
   "source": [
    "females <- Data[Data$sex == \"F\", ]\n",
    "print(females)"
   ]
  },
  {
   "cell_type": "code",
   "execution_count": 152,
   "metadata": {
    "vscode": {
     "languageId": "r"
    }
   },
   "outputs": [
    {
     "name": "stdout",
     "output_type": "stream",
     "text": [
      "Male\n"
     ]
    },
    {
     "name": "stdout",
     "output_type": "stream",
     "text": [
      "Mean: 178.011363636364 \n",
      "Variance: 41.4826280041797 \n",
      "Standard Deviation: 6.44070089386083 \n",
      "FeMale \n",
      "\n",
      "Mean: 163.741071428571 \n",
      "Variance: 135.581000643501 \n",
      "Standard Deviation: 11.6439254825639 \n"
     ]
    }
   ],
   "source": [
    "male_heights <- Data$height[Data$sex == \"M\"]\n",
    "mean_male <- mean(male_heights)\n",
    "var_male <- var(male_heights)\n",
    "sd_male <- sd(male_heights)\n",
    "\n",
    "female_heights <- Data$height[Data$sex == \"F\"]\n",
    "mean_female <- mean(female_heights)\n",
    "var_female <- var(female_heights)\n",
    "sd_female <- sd(female_heights)\n",
    "\n",
    "cat(\"Male\\n\")\n",
    "cat(paste(\"Mean:\", mean_male, \"\\n\"))\n",
    "cat(paste(\"Variance:\", var_male, \"\\n\"))\n",
    "cat(paste(\"Standard Deviation:\", sd_male, \"\\n\"))\n",
    "\n",
    "cat(\"FeMale\" , \"\\n\\n\")\n",
    "cat(paste(\"Mean:\", mean_female, \"\\n\"))\n",
    "cat(paste(\"Variance:\", var_female, \"\\n\"))\n",
    "cat(paste(\"Standard Deviation:\", sd_female, \"\\n\"))\n"
   ]
  },
  {
   "cell_type": "code",
   "execution_count": 157,
   "metadata": {
    "vscode": {
     "languageId": "r"
    }
   },
   "outputs": [
    {
     "name": "stdout",
     "output_type": "stream",
     "text": [
      "Standard Deviation: 9.707458 \n"
     ]
    },
    {
     "name": "stdout",
     "output_type": "stream",
     "text": [
      "Point Estimate for Mean Difference: 14.27029 \n"
     ]
    }
   ],
   "source": [
    "n_male <- length(male_heights)\n",
    "n_female <- length(female_heights)\n",
    "sd <- sqrt(((n_male - 1) * var_male + (n_female - 1) * var_female) / (n_male + n_female - 2))\n",
    "\n",
    "cat(\"Standard Deviation:\", pooled_sd, \"\\n\")\n",
    "\n",
    "mean_diff <- mean_male - mean_female\n",
    "cat(\"Point Estimate for Mean Difference:\", mean_diff, \"\\n\")"
   ]
  },
  {
   "cell_type": "code",
   "execution_count": 159,
   "metadata": {
    "vscode": {
     "languageId": "r"
    }
   },
   "outputs": [
    {
     "name": "stdout",
     "output_type": "stream",
     "text": [
      "Confidence Interval for Difference in Mean Heights: 11.54332 to 16.99727 \n"
     ]
    }
   ],
   "source": [
    "t_value <- qt(0.975, df = n_male + n_female - 2)\n",
    "\n",
    "SE_diff <- pooled_sd * sqrt((1 / n_male) + (1 / n_female))\n",
    "lower_CI <- mean_diff - t_value * SE_diff\n",
    "upper_CI <- mean_diff + t_value * SE_diff\n",
    "\n",
    "cat(\"Confidence Interval for Difference in Mean Heights:\", lower_CI, \"to\", upper_CI, \"\\n\")\n"
   ]
  }
 ],
 "metadata": {
  "kernelspec": {
   "display_name": "R",
   "language": "R",
   "name": "ir"
  },
  "language_info": {
   "codemirror_mode": "r",
   "file_extension": ".r",
   "mimetype": "text/x-r-source",
   "name": "R",
   "pygments_lexer": "r",
   "version": "4.4.2"
  }
 },
 "nbformat": 4,
 "nbformat_minor": 2
}
